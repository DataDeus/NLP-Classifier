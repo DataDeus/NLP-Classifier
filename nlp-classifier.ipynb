{
 "cells": [
  {
   "cell_type": "markdown",
   "metadata": {},
   "source": [
    "# **Topic MOdelling**\n",
    "\n",
    "This is a simple notebook that explains topic modelling using tweets. the Idea is to classify which tweets are about real disasters and which are not.\n",
    "___________________________________________________________________________________________________________________________________\n",
    "The datasets consis of five columns:\n",
    "___________________________________________________________________________________________________________________________________\n",
    "\n",
    "\n",
    "id: a unique identifier for each tweet\n",
    "\n",
    "text: the text of the tweet\n",
    "\n",
    "location: the location the tweet was sent from (may be blank)\n",
    "\n",
    "keyword: a particular keyword from the tweet (may be blank)\n",
    "\n",
    "target: in train.csv only, this denotes whether a tweet is about a real disaster (1) or not (0)"
   ]
  },
  {
   "cell_type": "markdown",
   "metadata": {},
   "source": [
    "**Step 1: Make necessary importations**"
   ]
  },
  {
   "cell_type": "code",
   "execution_count": 2,
   "metadata": {
    "execution": {
     "iopub.execute_input": "2021-07-10T00:43:58.819662Z",
     "iopub.status.busy": "2021-07-10T00:43:58.818952Z",
     "iopub.status.idle": "2021-07-10T00:44:01.989814Z",
     "shell.execute_reply": "2021-07-10T00:44:01.988922Z",
     "shell.execute_reply.started": "2021-07-10T00:43:58.819620Z"
    }
   },
   "outputs": [
    {
     "ename": "ModuleNotFoundError",
     "evalue": "No module named 'tensorflow'",
     "output_type": "error",
     "traceback": [
      "\u001b[0;31m---------------------------------------------------------------------------\u001b[0m",
      "\u001b[0;31mModuleNotFoundError\u001b[0m                       Traceback (most recent call last)",
      "\u001b[0;32m<ipython-input-2-b1b12598d91d>\u001b[0m in \u001b[0;36m<module>\u001b[0;34m\u001b[0m\n\u001b[1;32m      5\u001b[0m \u001b[0;32mimport\u001b[0m \u001b[0mmatplotlib\u001b[0m\u001b[0;34m.\u001b[0m\u001b[0mpyplot\u001b[0m \u001b[0;32mas\u001b[0m \u001b[0mplt\u001b[0m\u001b[0;34m\u001b[0m\u001b[0;34m\u001b[0m\u001b[0m\n\u001b[1;32m      6\u001b[0m \u001b[0;32mimport\u001b[0m \u001b[0mseaborn\u001b[0m \u001b[0;32mas\u001b[0m \u001b[0msns\u001b[0m\u001b[0;34m\u001b[0m\u001b[0;34m\u001b[0m\u001b[0m\n\u001b[0;32m----> 7\u001b[0;31m \u001b[0;32mimport\u001b[0m \u001b[0mtensorflow\u001b[0m \u001b[0;32mas\u001b[0m \u001b[0mtf\u001b[0m\u001b[0;34m\u001b[0m\u001b[0;34m\u001b[0m\u001b[0m\n\u001b[0m\u001b[1;32m      8\u001b[0m \u001b[0;34m\u001b[0m\u001b[0m\n\u001b[1;32m      9\u001b[0m \u001b[0;32mfrom\u001b[0m \u001b[0mnltk\u001b[0m\u001b[0;34m.\u001b[0m\u001b[0mcorpus\u001b[0m \u001b[0;32mimport\u001b[0m \u001b[0mstopwords\u001b[0m\u001b[0;34m\u001b[0m\u001b[0;34m\u001b[0m\u001b[0m\n",
      "\u001b[0;31mModuleNotFoundError\u001b[0m: No module named 'tensorflow'"
     ]
    }
   ],
   "source": [
    "import re\n",
    "import nltk\n",
    "import numpy as np\n",
    "import pandas as pd\n",
    "import matplotlib.pyplot as plt\n",
    "import seaborn as sns\n",
    "import tensorflow as tf\n",
    "\n",
    "from nltk.corpus import stopwords\n",
    "from nltk.stem.wordnet import WordNetLemmatizer\n",
    "from collections import Counter\n",
    "from wordcloud import WordCloud\n",
    "from tensorflow import keras\n",
    "from keras import (layers, models)"
   ]
  },
  {
   "cell_type": "markdown",
   "metadata": {},
   "source": [
    "**Step 2: Exploratory Data Analysis** "
   ]
  },
  {
   "cell_type": "code",
   "execution_count": 6,
   "metadata": {
    "execution": {
     "iopub.execute_input": "2021-07-10T00:44:06.078709Z",
     "iopub.status.busy": "2021-07-10T00:44:06.078131Z",
     "iopub.status.idle": "2021-07-10T00:44:06.135884Z",
     "shell.execute_reply": "2021-07-10T00:44:06.134995Z",
     "shell.execute_reply.started": "2021-07-10T00:44:06.078673Z"
    }
   },
   "outputs": [],
   "source": [
    "Train = pd.read_csv(\"/home/godsent/Downloads/test.csv\")\n",
    "Test = pd.read_csv(\"/home/godsent/Downloads/test.csv\")"
   ]
  },
  {
   "cell_type": "code",
   "execution_count": 4,
   "metadata": {
    "execution": {
     "iopub.execute_input": "2021-07-10T00:44:09.457953Z",
     "iopub.status.busy": "2021-07-10T00:44:09.457397Z",
     "iopub.status.idle": "2021-07-10T00:44:09.475509Z",
     "shell.execute_reply": "2021-07-10T00:44:09.474576Z",
     "shell.execute_reply.started": "2021-07-10T00:44:09.457919Z"
    }
   },
   "outputs": [
    {
     "data": {
      "text/html": [
       "<div>\n",
       "<style scoped>\n",
       "    .dataframe tbody tr th:only-of-type {\n",
       "        vertical-align: middle;\n",
       "    }\n",
       "\n",
       "    .dataframe tbody tr th {\n",
       "        vertical-align: top;\n",
       "    }\n",
       "\n",
       "    .dataframe thead th {\n",
       "        text-align: right;\n",
       "    }\n",
       "</style>\n",
       "<table border=\"1\" class=\"dataframe\">\n",
       "  <thead>\n",
       "    <tr style=\"text-align: right;\">\n",
       "      <th></th>\n",
       "      <th>id</th>\n",
       "      <th>keyword</th>\n",
       "      <th>location</th>\n",
       "      <th>text</th>\n",
       "      <th>target</th>\n",
       "    </tr>\n",
       "  </thead>\n",
       "  <tbody>\n",
       "    <tr>\n",
       "      <th>0</th>\n",
       "      <td>1</td>\n",
       "      <td>NaN</td>\n",
       "      <td>NaN</td>\n",
       "      <td>Our Deeds are the Reason of this #earthquake M...</td>\n",
       "      <td>1</td>\n",
       "    </tr>\n",
       "    <tr>\n",
       "      <th>1</th>\n",
       "      <td>4</td>\n",
       "      <td>NaN</td>\n",
       "      <td>NaN</td>\n",
       "      <td>Forest fire near La Ronge Sask. Canada</td>\n",
       "      <td>1</td>\n",
       "    </tr>\n",
       "    <tr>\n",
       "      <th>2</th>\n",
       "      <td>5</td>\n",
       "      <td>NaN</td>\n",
       "      <td>NaN</td>\n",
       "      <td>All residents asked to 'shelter in place' are ...</td>\n",
       "      <td>1</td>\n",
       "    </tr>\n",
       "    <tr>\n",
       "      <th>3</th>\n",
       "      <td>6</td>\n",
       "      <td>NaN</td>\n",
       "      <td>NaN</td>\n",
       "      <td>13,000 people receive #wildfires evacuation or...</td>\n",
       "      <td>1</td>\n",
       "    </tr>\n",
       "    <tr>\n",
       "      <th>4</th>\n",
       "      <td>7</td>\n",
       "      <td>NaN</td>\n",
       "      <td>NaN</td>\n",
       "      <td>Just got sent this photo from Ruby #Alaska as ...</td>\n",
       "      <td>1</td>\n",
       "    </tr>\n",
       "  </tbody>\n",
       "</table>\n",
       "</div>"
      ],
      "text/plain": [
       "   id keyword location                                               text  \\\n",
       "0   1     NaN      NaN  Our Deeds are the Reason of this #earthquake M...   \n",
       "1   4     NaN      NaN             Forest fire near La Ronge Sask. Canada   \n",
       "2   5     NaN      NaN  All residents asked to 'shelter in place' are ...   \n",
       "3   6     NaN      NaN  13,000 people receive #wildfires evacuation or...   \n",
       "4   7     NaN      NaN  Just got sent this photo from Ruby #Alaska as ...   \n",
       "\n",
       "   target  \n",
       "0       1  \n",
       "1       1  \n",
       "2       1  \n",
       "3       1  \n",
       "4       1  "
      ]
     },
     "execution_count": 4,
     "metadata": {},
     "output_type": "execute_result"
    }
   ],
   "source": [
    "Train.head()"
   ]
  },
  {
   "cell_type": "code",
   "execution_count": 5,
   "metadata": {
    "execution": {
     "iopub.execute_input": "2021-07-10T00:44:12.713328Z",
     "iopub.status.busy": "2021-07-10T00:44:12.712798Z",
     "iopub.status.idle": "2021-07-10T00:44:12.723517Z",
     "shell.execute_reply": "2021-07-10T00:44:12.722788Z",
     "shell.execute_reply.started": "2021-07-10T00:44:12.713295Z"
    }
   },
   "outputs": [
    {
     "data": {
      "text/html": [
       "<div>\n",
       "<style scoped>\n",
       "    .dataframe tbody tr th:only-of-type {\n",
       "        vertical-align: middle;\n",
       "    }\n",
       "\n",
       "    .dataframe tbody tr th {\n",
       "        vertical-align: top;\n",
       "    }\n",
       "\n",
       "    .dataframe thead th {\n",
       "        text-align: right;\n",
       "    }\n",
       "</style>\n",
       "<table border=\"1\" class=\"dataframe\">\n",
       "  <thead>\n",
       "    <tr style=\"text-align: right;\">\n",
       "      <th></th>\n",
       "      <th>id</th>\n",
       "      <th>keyword</th>\n",
       "      <th>location</th>\n",
       "      <th>text</th>\n",
       "    </tr>\n",
       "  </thead>\n",
       "  <tbody>\n",
       "    <tr>\n",
       "      <th>0</th>\n",
       "      <td>0</td>\n",
       "      <td>NaN</td>\n",
       "      <td>NaN</td>\n",
       "      <td>Just happened a terrible car crash</td>\n",
       "    </tr>\n",
       "    <tr>\n",
       "      <th>1</th>\n",
       "      <td>2</td>\n",
       "      <td>NaN</td>\n",
       "      <td>NaN</td>\n",
       "      <td>Heard about #earthquake is different cities, s...</td>\n",
       "    </tr>\n",
       "    <tr>\n",
       "      <th>2</th>\n",
       "      <td>3</td>\n",
       "      <td>NaN</td>\n",
       "      <td>NaN</td>\n",
       "      <td>there is a forest fire at spot pond, geese are...</td>\n",
       "    </tr>\n",
       "    <tr>\n",
       "      <th>3</th>\n",
       "      <td>9</td>\n",
       "      <td>NaN</td>\n",
       "      <td>NaN</td>\n",
       "      <td>Apocalypse lighting. #Spokane #wildfires</td>\n",
       "    </tr>\n",
       "    <tr>\n",
       "      <th>4</th>\n",
       "      <td>11</td>\n",
       "      <td>NaN</td>\n",
       "      <td>NaN</td>\n",
       "      <td>Typhoon Soudelor kills 28 in China and Taiwan</td>\n",
       "    </tr>\n",
       "  </tbody>\n",
       "</table>\n",
       "</div>"
      ],
      "text/plain": [
       "   id keyword location                                               text\n",
       "0   0     NaN      NaN                 Just happened a terrible car crash\n",
       "1   2     NaN      NaN  Heard about #earthquake is different cities, s...\n",
       "2   3     NaN      NaN  there is a forest fire at spot pond, geese are...\n",
       "3   9     NaN      NaN           Apocalypse lighting. #Spokane #wildfires\n",
       "4  11     NaN      NaN      Typhoon Soudelor kills 28 in China and Taiwan"
      ]
     },
     "execution_count": 5,
     "metadata": {},
     "output_type": "execute_result"
    }
   ],
   "source": [
    "Test.head()"
   ]
  },
  {
   "cell_type": "code",
   "execution_count": 6,
   "metadata": {
    "execution": {
     "iopub.execute_input": "2021-07-10T00:44:17.870424Z",
     "iopub.status.busy": "2021-07-10T00:44:17.870034Z",
     "iopub.status.idle": "2021-07-10T00:44:17.889941Z",
     "shell.execute_reply": "2021-07-10T00:44:17.888495Z",
     "shell.execute_reply.started": "2021-07-10T00:44:17.870388Z"
    }
   },
   "outputs": [
    {
     "name": "stdout",
     "output_type": "stream",
     "text": [
      "<class 'pandas.core.frame.DataFrame'>\n",
      "RangeIndex: 7613 entries, 0 to 7612\n",
      "Data columns (total 5 columns):\n",
      " #   Column    Non-Null Count  Dtype \n",
      "---  ------    --------------  ----- \n",
      " 0   id        7613 non-null   int64 \n",
      " 1   keyword   7552 non-null   object\n",
      " 2   location  5080 non-null   object\n",
      " 3   text      7613 non-null   object\n",
      " 4   target    7613 non-null   int64 \n",
      "dtypes: int64(2), object(3)\n",
      "memory usage: 297.5+ KB\n"
     ]
    }
   ],
   "source": [
    "Train.info()"
   ]
  },
  {
   "cell_type": "code",
   "execution_count": 7,
   "metadata": {
    "execution": {
     "iopub.execute_input": "2021-07-10T00:44:22.537295Z",
     "iopub.status.busy": "2021-07-10T00:44:22.536914Z",
     "iopub.status.idle": "2021-07-10T00:44:22.544128Z",
     "shell.execute_reply": "2021-07-10T00:44:22.542549Z",
     "shell.execute_reply.started": "2021-07-10T00:44:22.537263Z"
    }
   },
   "outputs": [
    {
     "name": "stdout",
     "output_type": "stream",
     "text": [
      "(7613, 5)\n",
      "(3263, 4)\n"
     ]
    }
   ],
   "source": [
    "print(Train.shape)\n",
    "print(Test.shape)"
   ]
  },
  {
   "cell_type": "code",
   "execution_count": 8,
   "metadata": {
    "execution": {
     "iopub.execute_input": "2021-07-10T00:44:27.173839Z",
     "iopub.status.busy": "2021-07-10T00:44:27.173498Z",
     "iopub.status.idle": "2021-07-10T00:44:27.319162Z",
     "shell.execute_reply": "2021-07-10T00:44:27.317932Z",
     "shell.execute_reply.started": "2021-07-10T00:44:27.173810Z"
    }
   },
   "outputs": [
    {
     "name": "stderr",
     "output_type": "stream",
     "text": [
      "/opt/conda/lib/python3.7/site-packages/seaborn/_decorators.py:43: FutureWarning: Pass the following variable as a keyword arg: x. From version 0.12, the only valid positional argument will be `data`, and passing other arguments without an explicit keyword will result in an error or misinterpretation.\n",
      "  FutureWarning\n"
     ]
    },
    {
     "data": {
      "image/png": "[encoded data removed]",
      "text/plain": [
       "<Figure size 576x360 with 1 Axes>"
      ]
     },
     "metadata": {
      "needs_background": "light"
     },
     "output_type": "display_data"
    }
   ],
   "source": [
    "# Visualization of the Train Dataset\n",
    "\n",
    "plt.figure(figsize = (8,5))\n",
    "ax = sns.countplot(Train[\"target\"])\n",
    "\n",
    "plt.title(\"Distribution of disaster and non-disaster tweets\")\n",
    "plt.xlabel(\"Class\")\n",
    "plt.ylabel(\"Number of samples\")\n",
    "\n",
    "for p in ax.patches:\n",
    "        ax.annotate('{:.0f}'.format(p.get_height()), (p.get_x()+0.33, p.get_height()+50))\n",
    "\n",
    "plt.show()"
   ]
  },
  {
   "cell_type": "markdown",
   "metadata": {},
   "source": [
    "This data contains 3271 disaster tweets & 4342 non-disaster tweets"
   ]
  },
  {
   "cell_type": "code",
   "execution_count": 9,
   "metadata": {
    "execution": {
     "iopub.execute_input": "2021-07-10T00:44:33.813364Z",
     "iopub.status.busy": "2021-07-10T00:44:33.812953Z",
     "iopub.status.idle": "2021-07-10T00:44:33.822908Z",
     "shell.execute_reply": "2021-07-10T00:44:33.822130Z",
     "shell.execute_reply.started": "2021-07-10T00:44:33.813329Z"
    }
   },
   "outputs": [
    {
     "data": {
      "text/plain": [
       "array([nan, 'ablaze', 'accident', 'aftershock', 'airplane%20accident',\n",
       "       'ambulance', 'annihilated', 'annihilation', 'apocalypse',\n",
       "       'armageddon', 'army', 'arson', 'arsonist', 'attack', 'attacked',\n",
       "       'avalanche', 'battle', 'bioterror', 'bioterrorism', 'blaze',\n",
       "       'blazing', 'bleeding', 'blew%20up', 'blight', 'blizzard', 'blood',\n",
       "       'bloody', 'blown%20up', 'body%20bag', 'body%20bagging',\n",
       "       'body%20bags', 'bomb', 'bombed', 'bombing', 'bridge%20collapse',\n",
       "       'buildings%20burning', 'buildings%20on%20fire', 'burned',\n",
       "       'burning', 'burning%20buildings', 'bush%20fires', 'casualties',\n",
       "       'casualty', 'catastrophe', 'catastrophic', 'chemical%20emergency',\n",
       "       'cliff%20fall', 'collapse', 'collapsed', 'collide', 'collided',\n",
       "       'collision', 'crash', 'crashed', 'crush', 'crushed', 'curfew',\n",
       "       'cyclone', 'damage', 'danger', 'dead', 'death', 'deaths', 'debris',\n",
       "       'deluge', 'deluged', 'demolish', 'demolished', 'demolition',\n",
       "       'derail', 'derailed', 'derailment', 'desolate', 'desolation',\n",
       "       'destroy', 'destroyed', 'destruction', 'detonate', 'detonation',\n",
       "       'devastated', 'devastation', 'disaster', 'displaced', 'drought',\n",
       "       'drown', 'drowned', 'drowning', 'dust%20storm', 'earthquake',\n",
       "       'electrocute', 'electrocuted', 'emergency', 'emergency%20plan',\n",
       "       'emergency%20services', 'engulfed', 'epicentre', 'evacuate',\n",
       "       'evacuated', 'evacuation', 'explode', 'exploded', 'explosion',\n",
       "       'eyewitness', 'famine', 'fatal', 'fatalities', 'fatality', 'fear',\n",
       "       'fire', 'fire%20truck', 'first%20responders', 'flames',\n",
       "       'flattened', 'flood', 'flooding', 'floods', 'forest%20fire',\n",
       "       'forest%20fires', 'hail', 'hailstorm', 'harm', 'hazard',\n",
       "       'hazardous', 'heat%20wave', 'hellfire', 'hijack', 'hijacker',\n",
       "       'hijacking', 'hostage', 'hostages', 'hurricane', 'injured',\n",
       "       'injuries', 'injury', 'inundated', 'inundation', 'landslide',\n",
       "       'lava', 'lightning', 'loud%20bang', 'mass%20murder',\n",
       "       'mass%20murderer', 'massacre', 'mayhem', 'meltdown', 'military',\n",
       "       'mudslide', 'natural%20disaster', 'nuclear%20disaster',\n",
       "       'nuclear%20reactor', 'obliterate', 'obliterated', 'obliteration',\n",
       "       'oil%20spill', 'outbreak', 'pandemonium', 'panic', 'panicking',\n",
       "       'police', 'quarantine', 'quarantined', 'radiation%20emergency',\n",
       "       'rainstorm', 'razed', 'refugees', 'rescue', 'rescued', 'rescuers',\n",
       "       'riot', 'rioting', 'rubble', 'ruin', 'sandstorm', 'screamed',\n",
       "       'screaming', 'screams', 'seismic', 'sinkhole', 'sinking', 'siren',\n",
       "       'sirens', 'smoke', 'snowstorm', 'storm', 'stretcher',\n",
       "       'structural%20failure', 'suicide%20bomb', 'suicide%20bomber',\n",
       "       'suicide%20bombing', 'sunk', 'survive', 'survived', 'survivors',\n",
       "       'terrorism', 'terrorist', 'threat', 'thunder', 'thunderstorm',\n",
       "       'tornado', 'tragedy', 'trapped', 'trauma', 'traumatised',\n",
       "       'trouble', 'tsunami', 'twister', 'typhoon', 'upheaval',\n",
       "       'violent%20storm', 'volcano', 'war%20zone', 'weapon', 'weapons',\n",
       "       'whirlwind', 'wild%20fires', 'wildfire', 'windstorm', 'wounded',\n",
       "       'wounds', 'wreck', 'wreckage', 'wrecked'], dtype=object)"
      ]
     },
     "execution_count": 9,
     "metadata": {},
     "output_type": "execute_result"
    }
   ],
   "source": [
    "Train[\"keyword\"].unique()"
   ]
  },
  {
   "cell_type": "code",
   "execution_count": 10,
   "metadata": {
    "execution": {
     "iopub.execute_input": "2021-07-10T00:44:39.091840Z",
     "iopub.status.busy": "2021-07-10T00:44:39.089730Z",
     "iopub.status.idle": "2021-07-10T00:44:39.098854Z",
     "shell.execute_reply": "2021-07-10T00:44:39.098127Z",
     "shell.execute_reply.started": "2021-07-10T00:44:39.091764Z"
    }
   },
   "outputs": [
    {
     "data": {
      "text/plain": [
       "array([nan, 'Birmingham', 'Est. September 2012 - Bristol', ...,\n",
       "       'Vancouver, Canada', 'London ', 'Lincoln'], dtype=object)"
      ]
     },
     "execution_count": 10,
     "metadata": {},
     "output_type": "execute_result"
    }
   ],
   "source": [
    "Train[\"location\"].unique()"
   ]
  },
  {
   "cell_type": "code",
   "execution_count": 11,
   "metadata": {
    "execution": {
     "iopub.execute_input": "2021-07-10T00:44:44.912309Z",
     "iopub.status.busy": "2021-07-10T00:44:44.911745Z",
     "iopub.status.idle": "2021-07-10T00:44:44.922197Z",
     "shell.execute_reply": "2021-07-10T00:44:44.920903Z",
     "shell.execute_reply.started": "2021-07-10T00:44:44.912274Z"
    }
   },
   "outputs": [
    {
     "data": {
      "text/plain": [
       "0       Our Deeds are the Reason of this #earthquake M...\n",
       "1                  Forest fire near La Ronge Sask. Canada\n",
       "2       All residents asked to 'shelter in place' are ...\n",
       "3       13,000 people receive #wildfires evacuation or...\n",
       "4       Just got sent this photo from Ruby #Alaska as ...\n",
       "                              ...                        \n",
       "7608    Two giant cranes holding a bridge collapse int...\n",
       "7609    @aria_ahrary @TheTawniest The out of control w...\n",
       "7610    M1.94 [01:04 UTC]?5km S of Volcano Hawaii. htt...\n",
       "7611    Police investigating after an e-bike collided ...\n",
       "7612    The Latest: More Homes Razed by Northern Calif...\n",
       "Name: text, Length: 7613, dtype: object"
      ]
     },
     "execution_count": 11,
     "metadata": {},
     "output_type": "execute_result"
    }
   ],
   "source": [
    "Train[\"text\"]"
   ]
  },
  {
   "cell_type": "code",
   "execution_count": 12,
   "metadata": {
    "execution": {
     "iopub.execute_input": "2021-07-10T00:44:48.010970Z",
     "iopub.status.busy": "2021-07-10T00:44:48.010530Z",
     "iopub.status.idle": "2021-07-10T00:44:48.030274Z",
     "shell.execute_reply": "2021-07-10T00:44:48.029209Z",
     "shell.execute_reply.started": "2021-07-10T00:44:48.010934Z"
    }
   },
   "outputs": [
    {
     "data": {
      "text/plain": [
       "0       Our Deeds are the Reason of this #earthquake M...\n",
       "1                  Forest fire near La Ronge Sask. Canada\n",
       "2       All residents asked to 'shelter in place' are ...\n",
       "3       13,000 people receive #wildfires evacuation or...\n",
       "4       Just got sent this photo from Ruby #Alaska as ...\n",
       "                              ...                        \n",
       "7608    Two giant cranes holding a bridge collapse int...\n",
       "7609    @aria_ahrary @TheTawniest The out of control w...\n",
       "7610    M1.94 [01:04 UTC]?5km S of Volcano Hawaii. htt...\n",
       "7611    Police investigating after an e-bike collided ...\n",
       "7612    The Latest: More Homes Razed by Northern Calif...\n",
       "Name: text, Length: 3271, dtype: object"
      ]
     },
     "execution_count": 12,
     "metadata": {},
     "output_type": "execute_result"
    }
   ],
   "source": [
    "# View the tweets classified as actual/real disasters \n",
    "\n",
    "DisasterTweets = Train[\"text\"][Train.target == 1]\n",
    "\n",
    "DisasterTweets"
   ]
  },
  {
   "cell_type": "markdown",
   "metadata": {},
   "source": [
    "**Step 3: Data Cleaning & Preparation**"
   ]
  },
  {
   "cell_type": "code",
   "execution_count": 15,
   "metadata": {
    "execution": {
     "iopub.execute_input": "2021-07-10T00:45:17.183291Z",
     "iopub.status.busy": "2021-07-10T00:45:17.182854Z",
     "iopub.status.idle": "2021-07-10T00:45:17.198965Z",
     "shell.execute_reply": "2021-07-10T00:45:17.198099Z",
     "shell.execute_reply.started": "2021-07-10T00:45:17.183244Z"
    }
   },
   "outputs": [],
   "source": [
    "Train [\"text\"] = Train [\"text\"] + ' ' + Train [\"keyword\"].astype(str)\n",
    "Test [\"text\"] = Test [\"text\"] + ' ' + Test [\"keyword\"].astype(str)"
   ]
  },
  {
   "cell_type": "code",
   "execution_count": 16,
   "metadata": {
    "execution": {
     "iopub.execute_input": "2021-07-10T00:45:19.259854Z",
     "iopub.status.busy": "2021-07-10T00:45:19.259297Z",
     "iopub.status.idle": "2021-07-10T00:45:19.269127Z",
     "shell.execute_reply": "2021-07-10T00:45:19.267863Z",
     "shell.execute_reply.started": "2021-07-10T00:45:19.259815Z"
    }
   },
   "outputs": [],
   "source": [
    "def CleanText(text):\n",
    "    \n",
    "    text = text.lower() # convert text to lowercase\n",
    "    text = re.sub(r'[^\\w\\s]',\"\",text) # remove punctuation\n",
    "    text = re.sub(\" \\d+\", \" \", text) # remove pure number strings\n",
    "    text = re.sub(r'http\\S+',\"\", text) # remove hyperlinks\n",
    "    \n",
    "    sw = stopwords.words(\"english\")  \n",
    "    text = \" \".join([word for word in text.split() if word not in sw]) # remove stopwords\n",
    "    \n",
    "    lemmatizer = WordNetLemmatizer()\n",
    "    text = \" \".join([lemmatizer.lemmatize(word) for word in text.split()]) # lemmatize words               \n",
    "    \n",
    "    return text"
   ]
  },
  {
   "cell_type": "code",
   "execution_count": 17,
   "metadata": {
    "execution": {
     "iopub.execute_input": "2021-07-10T00:45:24.954702Z",
     "iopub.status.busy": "2021-07-10T00:45:24.954146Z",
     "iopub.status.idle": "2021-07-10T00:45:27.348884Z",
     "shell.execute_reply": "2021-07-10T00:45:27.347802Z",
     "shell.execute_reply.started": "2021-07-10T00:45:24.954655Z"
    }
   },
   "outputs": [
    {
     "data": {
      "text/plain": [
       "'quick brown fox jumped lazy dog'"
      ]
     },
     "execution_count": 17,
     "metadata": {},
     "output_type": "execute_result"
    }
   ],
   "source": [
    "# example to try out the function\n",
    "\n",
    "ExampleText = \"The quick brown fox jumped over the lazy Dog\"\n",
    "CleanText(ExampleText)"
   ]
  },
  {
   "cell_type": "code",
   "execution_count": 18,
   "metadata": {
    "execution": {
     "iopub.execute_input": "2021-07-10T00:45:34.791837Z",
     "iopub.status.busy": "2021-07-10T00:45:34.791463Z",
     "iopub.status.idle": "2021-07-10T00:45:37.625649Z",
     "shell.execute_reply": "2021-07-10T00:45:37.624389Z",
     "shell.execute_reply.started": "2021-07-10T00:45:34.791805Z"
    }
   },
   "outputs": [],
   "source": [
    "Train [\"text\"] = Train [\"text\"].apply(lambda x: CleanText(x)).str.replace(\"nan\", \"\")\n",
    "Test [\"text\"] = Test [\"text\"].apply(lambda x: CleanText(x)).str.replace(\"nan\", \"\")"
   ]
  },
  {
   "cell_type": "markdown",
   "metadata": {},
   "source": [
    "**Step 4: Word Index**"
   ]
  },
  {
   "cell_type": "code",
   "execution_count": 19,
   "metadata": {
    "execution": {
     "iopub.execute_input": "2021-07-10T00:45:45.219513Z",
     "iopub.status.busy": "2021-07-10T00:45:45.219068Z",
     "iopub.status.idle": "2021-07-10T00:45:45.372789Z",
     "shell.execute_reply": "2021-07-10T00:45:45.371801Z",
     "shell.execute_reply.started": "2021-07-10T00:45:45.219475Z"
    }
   },
   "outputs": [],
   "source": [
    "TrainWords = Train.text.str.split (expand = True).stack().value_counts() [:9997] # select 9997 most frequent words for building vocabulary\n",
    "\n",
    "WordIndex = dict()    # dictionary of word index\n",
    "\n",
    "for i in range (len(TrainWords)):\n",
    "    WordIndex [TrainWords.index[i]] = i + 3\n",
    "    \n",
    "WordIndex[\"PAD\"] = 0 # for padding\n",
    "WordIndex[\"START\"] = 1 # denotes start of sequence\n",
    "WordIndex[\"UNK\"] = 2 # for words out of vocabulary\n",
    "\n",
    "ReverseWordIndex = {v:k for (k,v) in WordIndex.items()} # reverse word index mapping number to word"
   ]
  },
  {
   "cell_type": "markdown",
   "metadata": {},
   "source": [
    "**Step 5: Text Tokenization**"
   ]
  },
  {
   "cell_type": "code",
   "execution_count": 21,
   "metadata": {
    "execution": {
     "iopub.execute_input": "2021-07-10T00:45:55.911355Z",
     "iopub.status.busy": "2021-07-10T00:45:55.910797Z",
     "iopub.status.idle": "2021-07-10T00:45:55.917879Z",
     "shell.execute_reply": "2021-07-10T00:45:55.916728Z",
     "shell.execute_reply.started": "2021-07-10T00:45:55.911320Z"
    }
   },
   "outputs": [],
   "source": [
    "def TokenizeText (text):\n",
    "    \n",
    "    sen = [\"START\"]\n",
    "    \n",
    "    for word in text.split():\n",
    "        if word in WordIndex.keys():\n",
    "            sen.append(word)\n",
    "        else:\n",
    "            sen.append(\"UNK\")\n",
    "    \n",
    "    tokens = []  \n",
    "    \n",
    "    for word in sen:\n",
    "        tokens.append(int(WordIndex[word]))\n",
    "    return tokens       "
   ]
  },
  {
   "cell_type": "code",
   "execution_count": 22,
   "metadata": {
    "execution": {
     "iopub.execute_input": "2021-07-10T00:45:58.775871Z",
     "iopub.status.busy": "2021-07-10T00:45:58.775459Z",
     "iopub.status.idle": "2021-07-10T00:45:58.890920Z",
     "shell.execute_reply": "2021-07-10T00:45:58.889568Z",
     "shell.execute_reply.started": "2021-07-10T00:45:58.775836Z"
    }
   },
   "outputs": [],
   "source": [
    "TrainTokenized = Train[\"text\"].apply(lambda x: TokenizeText(x))\n",
    "TestTokenized = Test[\"text\"].apply(lambda x: TokenizeText(x))"
   ]
  },
  {
   "cell_type": "code",
   "execution_count": 23,
   "metadata": {
    "execution": {
     "iopub.execute_input": "2021-07-10T00:46:01.150207Z",
     "iopub.status.busy": "2021-07-10T00:46:01.149706Z",
     "iopub.status.idle": "2021-07-10T00:46:01.161995Z",
     "shell.execute_reply": "2021-07-10T00:46:01.160573Z",
     "shell.execute_reply.started": "2021-07-10T00:46:01.150168Z"
    }
   },
   "outputs": [
    {
     "data": {
      "text/plain": [
       "0                 [1, 4582, 537, 51, 215, 1465, 4309, 10]\n",
       "1                       [1, 276, 3, 331, 576, 2, 2, 1147]\n",
       "2       [1, 1704, 1494, 2042, 544, 2, 460, 59, 2042, 5...\n",
       "3                    [1, 4676, 21, 5338, 38, 59, 481, 66]\n",
       "4         [1, 100, 1180, 291, 2, 1878, 85, 38, 6250, 259]\n",
       "                              ...                        \n",
       "7608           [1, 184, 714, 1084, 940, 412, 39, 605, 45]\n",
       "7609    [1, 4427, 4623, 756, 379, 3, 66, 256, 297, 434...\n",
       "7610                           [1, 3055, 4281, 223, 1341]\n",
       "7611    [1, 18, 1026, 2835, 62, 97, 369, 5150, 2835, 1...\n",
       "7612              [1, 314, 45, 166, 297, 66, 38, 622, 23]\n",
       "Name: text, Length: 7613, dtype: object"
      ]
     },
     "execution_count": 23,
     "metadata": {},
     "output_type": "execute_result"
    }
   ],
   "source": [
    "TrainTokenized"
   ]
  },
  {
   "cell_type": "markdown",
   "metadata": {},
   "source": [
    "**Step 6: Create one hot encoded matrix for train data. Each sample will be a 10000 dimensional vector**"
   ]
  },
  {
   "cell_type": "code",
   "execution_count": 24,
   "metadata": {
    "execution": {
     "iopub.execute_input": "2021-07-10T00:46:04.892344Z",
     "iopub.status.busy": "2021-07-10T00:46:04.891478Z",
     "iopub.status.idle": "2021-07-10T00:46:05.060125Z",
     "shell.execute_reply": "2021-07-10T00:46:05.059313Z",
     "shell.execute_reply.started": "2021-07-10T00:46:04.892262Z"
    }
   },
   "outputs": [],
   "source": [
    "dim = 10000\n",
    "OneHotMatrix = np.zeros((len(Train), dim))\n",
    "for (i, vec) in enumerate(TrainTokenized):\n",
    "    for v in vec:\n",
    "        OneHotMatrix[i, v] = 1."
   ]
  },
  {
   "cell_type": "code",
   "execution_count": 25,
   "metadata": {
    "execution": {
     "iopub.execute_input": "2021-07-10T00:46:07.251419Z",
     "iopub.status.busy": "2021-07-10T00:46:07.250910Z",
     "iopub.status.idle": "2021-07-10T00:46:07.255901Z",
     "shell.execute_reply": "2021-07-10T00:46:07.254883Z",
     "shell.execute_reply.started": "2021-07-10T00:46:07.251376Z"
    }
   },
   "outputs": [],
   "source": [
    "y = Train[\"target\"].astype(float)"
   ]
  },
  {
   "cell_type": "markdown",
   "metadata": {},
   "source": [
    "**Step 7: Spitting data into train and validation sets**"
   ]
  },
  {
   "cell_type": "code",
   "execution_count": 26,
   "metadata": {
    "execution": {
     "iopub.execute_input": "2021-07-10T00:46:10.587952Z",
     "iopub.status.busy": "2021-07-10T00:46:10.587538Z",
     "iopub.status.idle": "2021-07-10T00:46:10.596380Z",
     "shell.execute_reply": "2021-07-10T00:46:10.594750Z",
     "shell.execute_reply.started": "2021-07-10T00:46:10.587915Z"
    }
   },
   "outputs": [],
   "source": [
    "ValSplit = .15\n",
    "ValStartIdx = int(OneHotMatrix.shape[0] * (1 - ValSplit))\n",
    "ValData = OneHotMatrix[ValStartIdx:, :]\n",
    "ValLabels = y[ValStartIdx:]\n",
    "ValData = OneHotMatrix[ValStartIdx:, :]\n",
    "ValLabels = y[ValStartIdx:]\n",
    "TrainData = OneHotMatrix[:ValStartIdx, :]\n",
    "TrainLabels = y[:ValStartIdx]"
   ]
  },
  {
   "cell_type": "markdown",
   "metadata": {},
   "source": [
    "**Step 8: Model  build**"
   ]
  },
  {
   "cell_type": "code",
   "execution_count": 28,
   "metadata": {
    "execution": {
     "iopub.execute_input": "2021-07-10T00:46:26.975573Z",
     "iopub.status.busy": "2021-07-10T00:46:26.974981Z",
     "iopub.status.idle": "2021-07-10T00:46:27.032768Z",
     "shell.execute_reply": "2021-07-10T00:46:27.031355Z",
     "shell.execute_reply.started": "2021-07-10T00:46:26.975534Z"
    }
   },
   "outputs": [],
   "source": [
    "model = models.Sequential()\n",
    "model.add (layers.Dense(32, activation = \"relu\", input_shape = (dim, )))\n",
    "model.add (layers.Dropout(0.4))\n",
    "model.add (layers.Dense(8, activation = \"relu\"))\n",
    "model.add (layers.Dense(1, activation = \"sigmoid\"))"
   ]
  },
  {
   "cell_type": "code",
   "execution_count": 29,
   "metadata": {
    "execution": {
     "iopub.execute_input": "2021-07-10T00:46:32.598537Z",
     "iopub.status.busy": "2021-07-10T00:46:32.598105Z",
     "iopub.status.idle": "2021-07-10T00:46:32.618551Z",
     "shell.execute_reply": "2021-07-10T00:46:32.617329Z",
     "shell.execute_reply.started": "2021-07-10T00:46:32.598502Z"
    }
   },
   "outputs": [],
   "source": [
    "model.compile (optimizer = \"rmsprop\", loss = \"binary_crossentropy\", metrics = [\"accuracy\"])"
   ]
  },
  {
   "cell_type": "code",
   "execution_count": 30,
   "metadata": {
    "execution": {
     "iopub.execute_input": "2021-07-10T00:46:35.910257Z",
     "iopub.status.busy": "2021-07-10T00:46:35.909858Z",
     "iopub.status.idle": "2021-07-10T00:46:44.482292Z",
     "shell.execute_reply": "2021-07-10T00:46:44.481552Z",
     "shell.execute_reply.started": "2021-07-10T00:46:35.910226Z"
    }
   },
   "outputs": [
    {
     "name": "stdout",
     "output_type": "stream",
     "text": [
      "Epoch 1/15\n",
      "26/26 [==============================] - 2s 32ms/step - loss: 0.6798 - accuracy: 0.6326 - val_loss: 0.6318 - val_accuracy: 0.7732\n",
      "Epoch 2/15\n",
      "26/26 [==============================] - 0s 19ms/step - loss: 0.5890 - accuracy: 0.8098 - val_loss: 0.5593 - val_accuracy: 0.7828\n",
      "Epoch 3/15\n",
      "26/26 [==============================] - 0s 18ms/step - loss: 0.4966 - accuracy: 0.8371 - val_loss: 0.5066 - val_accuracy: 0.7890\n",
      "Epoch 4/15\n",
      "26/26 [==============================] - 0s 18ms/step - loss: 0.4251 - accuracy: 0.8519 - val_loss: 0.4746 - val_accuracy: 0.7863\n",
      "Epoch 5/15\n",
      "26/26 [==============================] - 0s 18ms/step - loss: 0.3659 - accuracy: 0.8755 - val_loss: 0.4609 - val_accuracy: 0.7846\n",
      "Epoch 6/15\n",
      "26/26 [==============================] - 0s 17ms/step - loss: 0.3253 - accuracy: 0.8849 - val_loss: 0.4574 - val_accuracy: 0.7811\n",
      "Epoch 7/15\n",
      "26/26 [==============================] - 0s 18ms/step - loss: 0.3001 - accuracy: 0.8935 - val_loss: 0.4563 - val_accuracy: 0.7750\n",
      "Epoch 8/15\n",
      "26/26 [==============================] - 0s 18ms/step - loss: 0.2782 - accuracy: 0.8983 - val_loss: 0.4652 - val_accuracy: 0.7636\n",
      "Epoch 9/15\n",
      "26/26 [==============================] - 0s 18ms/step - loss: 0.2634 - accuracy: 0.9047 - val_loss: 0.4687 - val_accuracy: 0.7662\n",
      "Epoch 10/15\n",
      "26/26 [==============================] - 0s 17ms/step - loss: 0.2374 - accuracy: 0.9135 - val_loss: 0.4828 - val_accuracy: 0.7662\n",
      "Epoch 11/15\n",
      "26/26 [==============================] - 0s 18ms/step - loss: 0.2095 - accuracy: 0.9270 - val_loss: 0.5000 - val_accuracy: 0.7557\n",
      "Epoch 12/15\n",
      "26/26 [==============================] - 0s 17ms/step - loss: 0.2100 - accuracy: 0.9258 - val_loss: 0.5223 - val_accuracy: 0.7452\n",
      "Epoch 13/15\n",
      "26/26 [==============================] - 0s 18ms/step - loss: 0.1833 - accuracy: 0.9414 - val_loss: 0.5505 - val_accuracy: 0.7408\n",
      "Epoch 14/15\n",
      "26/26 [==============================] - 0s 17ms/step - loss: 0.1798 - accuracy: 0.9379 - val_loss: 0.5787 - val_accuracy: 0.7373\n",
      "Epoch 15/15\n",
      "26/26 [==============================] - 0s 17ms/step - loss: 0.1562 - accuracy: 0.9463 - val_loss: 0.5965 - val_accuracy: 0.7391\n"
     ]
    }
   ],
   "source": [
    "history = model.fit(TrainData, TrainLabels, epochs = 15, batch_size = 256, validation_data = (ValData, ValLabels))"
   ]
  },
  {
   "cell_type": "markdown",
   "metadata": {},
   "source": [
    "**Step 9: Loss and Accuracy plots**"
   ]
  },
  {
   "cell_type": "code",
   "execution_count": null,
   "metadata": {
    "execution": {
     "iopub.execute_input": "2021-07-10T00:29:09.028783Z",
     "iopub.status.busy": "2021-07-10T00:29:09.028341Z",
     "iopub.status.idle": "2021-07-10T00:29:09.388496Z",
     "shell.execute_reply": "2021-07-10T00:29:09.387185Z",
     "shell.execute_reply.started": "2021-07-10T00:29:09.028747Z"
    }
   },
   "outputs": [],
   "source": [
    "TrainLoss = history.history[\"loss\"]\n",
    "TrainAccuracy = history.history[\"accuracy\"]\n",
    "ValLoss = history.history[\"val_loss\"]\n",
    "ValAccuracy = history.history[\"val_accuracy\"]\n",
    "epochs = range(1, len(TrainLoss) + 1)\n",
    "\n",
    "plt.clf()\n",
    "fig, (ax1, ax2) = plt.subplots(1,2, figsize = (18,5))\n",
    "fig\n",
    "\n",
    "ax1.plot(epochs, TrainLoss, \"b\", label = \"Training loss\")\n",
    "ax1.plot(epochs, ValLoss, \"r\", label = \"Validation loss\")\n",
    "ax1.set_title(\"Training & Validation loss\")\n",
    "ax1.set_xlabel(\"epochs\")\n",
    "ax1.set_ylabel(\"loss\")\n",
    "ax1.legend()\n",
    "\n",
    "ax2.plot(epochs, TrainAccuracy, \"b\", label = \"Training accuracy\")\n",
    "ax2.plot(epochs, ValAccuracy, \"r\", label = \"Validation accuracy\")\n",
    "ax2.set_title(\"Training & Validation acc\")\n",
    "ax2.set_xlabel(\"epochs\")\n",
    "ax2.set_ylabel(\"accuracy\")\n",
    "ax2.legend()\n",
    "plt.show()"
   ]
  },
  {
   "cell_type": "markdown",
   "metadata": {},
   "source": [
    "**Step 10: Prepare test data for prediction**"
   ]
  },
  {
   "cell_type": "code",
   "execution_count": null,
   "metadata": {
    "execution": {
     "iopub.execute_input": "2021-07-10T00:32:44.892834Z",
     "iopub.status.busy": "2021-07-10T00:32:44.89232Z",
     "iopub.status.idle": "2021-07-10T00:32:44.952746Z",
     "shell.execute_reply": "2021-07-10T00:32:44.951655Z",
     "shell.execute_reply.started": "2021-07-10T00:32:44.892795Z"
    }
   },
   "outputs": [],
   "source": [
    "dim = 10000\n",
    "TestData = np.zeros((len(Test), dim))\n",
    "\n",
    "for (i, vec) in enumerate(TestTokenized):\n",
    "    for v in vec:\n",
    "        TestData[i, v] = 1."
   ]
  },
  {
   "cell_type": "code",
   "execution_count": null,
   "metadata": {
    "execution": {
     "iopub.execute_input": "2021-07-10T00:33:20.531582Z",
     "iopub.status.busy": "2021-07-10T00:33:20.53113Z",
     "iopub.status.idle": "2021-07-10T00:33:20.916185Z",
     "shell.execute_reply": "2021-07-10T00:33:20.914847Z",
     "shell.execute_reply.started": "2021-07-10T00:33:20.531543Z"
    }
   },
   "outputs": [],
   "source": [
    "# Generate predictions\n",
    "YTestPred = np.squeeze(np.round(model.predict(TestData),0))"
   ]
  }
 ],
 "metadata": {
  "kernelspec": {
   "display_name": "Python 3",
   "language": "python",
   "name": "python3"
  },
  "language_info": {
   "codemirror_mode": {
    "name": "ipython",
    "version": 3
   },
   "file_extension": ".py",
   "mimetype": "text/x-python",
   "name": "python",
   "nbconvert_exporter": "python",
   "pygments_lexer": "ipython3",
   "version": "3.7.4"
  }
 },
 "nbformat": 4,
 "nbformat_minor": 4
}
